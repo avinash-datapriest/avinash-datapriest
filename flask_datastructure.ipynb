{
  "nbformat": 4,
  "nbformat_minor": 0,
  "metadata": {
    "colab": {
      "name": "flask_datastructure.ipynb",
      "provenance": [],
      "collapsed_sections": [],
      "authorship_tag": "ABX9TyNmN4oObAVRF5OwMZT3O1nF",
      "include_colab_link": true
    },
    "kernelspec": {
      "name": "python3",
      "display_name": "Python 3"
    },
    "language_info": {
      "name": "python"
    }
  },
  "cells": [
    {
      "cell_type": "markdown",
      "metadata": {
        "id": "view-in-github",
        "colab_type": "text"
      },
      "source": [
        "<a href=\"https://colab.research.google.com/github/avinash-datapriest/avinash-datapriest/blob/main/flask_datastructure.ipynb\" target=\"_parent\"><img src=\"https://colab.research.google.com/assets/colab-badge.svg\" alt=\"Open In Colab\"/></a>"
      ]
    },
    {
      "cell_type": "code",
      "metadata": {
        "id": "jNUyDNn_NUnW"
      },
      "source": [
        "!pip install db-sqlite3\n",
        "!pip install Flask\n",
        "!pip install Flask-SQLAlchemy"
      ],
      "execution_count": null,
      "outputs": []
    },
    {
      "cell_type": "code",
      "metadata": {
        "id": "qplAn6xOOuW6"
      },
      "source": [
        "from flask import Flask , request ,jsonify\n",
        "from sqlite3 import Connection as SQLite3Connection\n",
        "from sqlalchemy import event\n",
        "from sqlalchemy.engine import Engine\n",
        "from flask_sqlalchemy import SQLAlchemy\n",
        "from datetime import datetime"
      ],
      "execution_count": 25,
      "outputs": []
    },
    {
      "cell_type": "code",
      "metadata": {
        "id": "N0MzmiKDPUZg"
      },
      "source": [
        "#Application\n",
        "app = Flask(__name__)"
      ],
      "execution_count": 30,
      "outputs": []
    },
    {
      "cell_type": "code",
      "metadata": {
        "id": "1NLIsY6rPuor"
      },
      "source": [
        "app.config[\"sqlalchemy_database_uri\"] = \"sqlite:///sqlitedb.file\"\n",
        "app.config[\"sqlalchemy_track_modifications\"] = 0"
      ],
      "execution_count": 31,
      "outputs": []
    },
    {
      "cell_type": "code",
      "metadata": {
        "id": "rdJxIrb4TPnH"
      },
      "source": [
        "#Configure sqlite3 to enforce foreign key constraints otherwise sqlite will allow blogpost table to \n",
        "#make tables without userid\n",
        "@event.listens_for(Engine,\"connect\")\n",
        "def _set_sqlite_pragma(dbapi_connection,connection_record):\n",
        "  if isinstance(dbapi_connection, SQLite3Connection):\n",
        "    cursor = dbapi_connection.cursor()\n",
        "    cursor.execute(\"PRAGMA foreign_keys = ON;\")\n",
        "    cursor.close()\n",
        "\n",
        "db = SQLAlchemy(app)\n",
        "now = datetime.now()"
      ],
      "execution_count": null,
      "outputs": []
    },
    {
      "cell_type": "code",
      "metadata": {
        "id": "x9bTJhyGRZkX"
      },
      "source": [
        "class User(db.Model):\n",
        "  __tablename__ = \"user\"\n",
        "  id = db.Column(db.Integer,primary_key = True)\n",
        "  name = db.Column(db.String(50))\n",
        "  email = db.column(db.String(50))\n",
        "  address = db.column(db.String(50)) \n",
        "  phone = db.Column(db.String(200))\n",
        "  posts = db.relationship(\"BlogPost\")\n",
        "\n",
        "\n"
      ],
      "execution_count": null,
      "outputs": []
    },
    {
      "cell_type": "code",
      "metadata": {
        "id": "ls9rlTUTWDN2"
      },
      "source": [
        "class Blogpost(db.Model):\n",
        "  __tablename__ = \"blogpost\"\n",
        "  id = db.Column(db.Integer,primary_key = True)\n",
        "  title = db.Column(db.String(50))\n",
        "  body = db.column(db.String(500))\n",
        "  date = db.column(db.Date)\n",
        "  user_id = db.Column(db.Integer,db.ForeignKey(\"user.id\"),nullable = False)\n",
        "  \n",
        "\n"
      ],
      "execution_count": null,
      "outputs": []
    },
    {
      "cell_type": "code",
      "metadata": {
        "id": "wFdqrgPYZe2O"
      },
      "source": [
        "db.create_all()"
      ],
      "execution_count": null,
      "outputs": []
    }
  ]
}